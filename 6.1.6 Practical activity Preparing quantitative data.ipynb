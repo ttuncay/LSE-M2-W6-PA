{
 "cells": [
  {
   "cell_type": "markdown",
   "id": "6508ef70",
   "metadata": {},
   "source": [
    "## Objective\n",
    "In this activity we will: \n",
    "\n",
    "set up the workspace\n",
    "get to know the data\n",
    "define sub-data sets\n",
    "detect outliers\n",
    "remove outliers."
   ]
  },
  {
   "cell_type": "code",
   "execution_count": 10,
   "id": "c60e8560",
   "metadata": {},
   "outputs": [],
   "source": [
    "# Import libraries.\n",
    "import numpy as np\n",
    "import pandas as pd\n",
    "import matplotlib.pyplot as plt\n",
    "import seaborn as sns\n",
    "sns.set()\n",
    "\n",
    "from sklearn.metrics import r2_score, median_absolute_error, mean_absolute_error\n",
    "from sklearn.metrics import median_absolute_error, mean_squared_error, mean_squared_log_error\n",
    "\n",
    "import warnings\n",
    "warnings.filterwarnings('ignore')\n",
    "\n",
    "%matplotlib inline\n",
    "\n",
    "# Get multiple outputs in the same cell.\n",
    "from IPython.core.interactiveshell import InteractiveShell\n",
    "InteractiveShell.ast_node_interactivity = 'all'"
   ]
  },
  {
   "cell_type": "code",
   "execution_count": 11,
   "id": "09ab1246",
   "metadata": {},
   "outputs": [
    {
     "name": "stdout",
     "output_type": "stream",
     "text": [
      "(29580, 4)\n",
      "postcode         int64\n",
      "price            int64\n",
      "propertyType    object\n",
      "bedrooms         int64\n",
      "dtype: object\n"
     ]
    },
    {
     "data": {
      "text/html": [
       "<div>\n",
       "<style scoped>\n",
       "    .dataframe tbody tr th:only-of-type {\n",
       "        vertical-align: middle;\n",
       "    }\n",
       "\n",
       "    .dataframe tbody tr th {\n",
       "        vertical-align: top;\n",
       "    }\n",
       "\n",
       "    .dataframe thead th {\n",
       "        text-align: right;\n",
       "    }\n",
       "</style>\n",
       "<table border=\"1\" class=\"dataframe\">\n",
       "  <thead>\n",
       "    <tr style=\"text-align: right;\">\n",
       "      <th></th>\n",
       "      <th>postcode</th>\n",
       "      <th>price</th>\n",
       "      <th>propertyType</th>\n",
       "      <th>bedrooms</th>\n",
       "    </tr>\n",
       "    <tr>\n",
       "      <th>datesold</th>\n",
       "      <th></th>\n",
       "      <th></th>\n",
       "      <th></th>\n",
       "      <th></th>\n",
       "    </tr>\n",
       "  </thead>\n",
       "  <tbody>\n",
       "    <tr>\n",
       "      <th>2007-02-07</th>\n",
       "      <td>2607</td>\n",
       "      <td>525000</td>\n",
       "      <td>house</td>\n",
       "      <td>4</td>\n",
       "    </tr>\n",
       "    <tr>\n",
       "      <th>2007-02-27</th>\n",
       "      <td>2906</td>\n",
       "      <td>290000</td>\n",
       "      <td>house</td>\n",
       "      <td>3</td>\n",
       "    </tr>\n",
       "    <tr>\n",
       "      <th>2007-03-07</th>\n",
       "      <td>2905</td>\n",
       "      <td>328000</td>\n",
       "      <td>house</td>\n",
       "      <td>3</td>\n",
       "    </tr>\n",
       "    <tr>\n",
       "      <th>2007-03-09</th>\n",
       "      <td>2905</td>\n",
       "      <td>380000</td>\n",
       "      <td>house</td>\n",
       "      <td>4</td>\n",
       "    </tr>\n",
       "    <tr>\n",
       "      <th>2007-03-21</th>\n",
       "      <td>2906</td>\n",
       "      <td>310000</td>\n",
       "      <td>house</td>\n",
       "      <td>3</td>\n",
       "    </tr>\n",
       "  </tbody>\n",
       "</table>\n",
       "</div>"
      ],
      "text/plain": [
       "            postcode   price propertyType  bedrooms\n",
       "datesold                                           \n",
       "2007-02-07      2607  525000        house         4\n",
       "2007-02-27      2906  290000        house         3\n",
       "2007-03-07      2905  328000        house         3\n",
       "2007-03-09      2905  380000        house         4\n",
       "2007-03-21      2906  310000        house         3"
      ]
     },
     "execution_count": 11,
     "metadata": {},
     "output_type": "execute_result"
    }
   ],
   "source": [
    "# Importing data and making the instant check\n",
    "sales=pd.read_csv('/Users/tunatuncay/Documents/Personal/LSE Data Analytics/Module 2/Week 6/LSE_DA201_Week_6_files/Data/raw_sales.csv', index_col=['datesold'], parse_dates=['datesold'])\n",
    "print(sales.shape)\n",
    "print(sales.dtypes)\n",
    "sales.head()"
   ]
  },
  {
   "cell_type": "code",
   "execution_count": 12,
   "id": "aa5379c2",
   "metadata": {},
   "outputs": [
    {
     "name": "stdout",
     "output_type": "stream",
     "text": [
      "(0, 4)\n"
     ]
    },
    {
     "data": {
      "text/html": [
       "<div>\n",
       "<style scoped>\n",
       "    .dataframe tbody tr th:only-of-type {\n",
       "        vertical-align: middle;\n",
       "    }\n",
       "\n",
       "    .dataframe tbody tr th {\n",
       "        vertical-align: top;\n",
       "    }\n",
       "\n",
       "    .dataframe thead th {\n",
       "        text-align: right;\n",
       "    }\n",
       "</style>\n",
       "<table border=\"1\" class=\"dataframe\">\n",
       "  <thead>\n",
       "    <tr style=\"text-align: right;\">\n",
       "      <th></th>\n",
       "      <th>postcode</th>\n",
       "      <th>price</th>\n",
       "      <th>propertyType</th>\n",
       "      <th>bedrooms</th>\n",
       "    </tr>\n",
       "    <tr>\n",
       "      <th>datesold</th>\n",
       "      <th></th>\n",
       "      <th></th>\n",
       "      <th></th>\n",
       "      <th></th>\n",
       "    </tr>\n",
       "  </thead>\n",
       "  <tbody>\n",
       "  </tbody>\n",
       "</table>\n",
       "</div>"
      ],
      "text/plain": [
       "Empty DataFrame\n",
       "Columns: [postcode, price, propertyType, bedrooms]\n",
       "Index: []"
      ]
     },
     "execution_count": 12,
     "metadata": {},
     "output_type": "execute_result"
    }
   ],
   "source": [
    "# Checking for missing values\n",
    "sales_na=sales[sales.isna().any(axis=1)]\n",
    "print(sales_na.shape)\n",
    "sales_na"
   ]
  },
  {
   "cell_type": "code",
   "execution_count": 15,
   "id": "77b932dc",
   "metadata": {},
   "outputs": [
    {
     "data": {
      "image/png": "[encoded data removed]",
      "text/plain": [
       "<Figure size 864x288 with 1 Axes>"
      ]
     },
     "metadata": {
      "needs_background": "light"
     },
     "output_type": "display_data"
    }
   ],
   "source": [
    "# Find the distribution of house prices over time and check for missing values.\n",
    "# Plot the house prices as a time series.\n",
    "# Plot the size.\n",
    "sales.plot(figsize=(12, 4))\n",
    "\n",
    "# Specify the legend and title of the plot.\n",
    "plt.legend(loc='best')\n",
    "plt.title('Housing Prices')\n",
    "plt.show(block=False);"
   ]
  },
  {
   "cell_type": "code",
   "execution_count": 27,
   "id": "a86c3c3b",
   "metadata": {},
   "outputs": [
    {
     "name": "stdout",
     "output_type": "stream",
     "text": [
      "3    11933\n",
      "4    10442\n",
      "2     3598\n",
      "5     1950\n",
      "1     1627\n",
      "0       30\n",
      "Name: bedrooms, dtype: int64\n"
     ]
    },
    {
     "data": {
      "text/plain": [
       "Text(0.5, 1.0, 'Count of houses based on number of bedrooms')"
      ]
     },
     "execution_count": 27,
     "metadata": {},
     "output_type": "execute_result"
    },
    {
     "data": {
      "text/plain": [
       "<AxesSubplot:title={'center':'Count of houses based on number of bedrooms'}, xlabel='bedrooms', ylabel='count'>"
      ]
     },
     "execution_count": 27,
     "metadata": {},
     "output_type": "execute_result"
    },
    {
     "data": {
      "image/png": "[encoded data removed]",
      "text/plain": [
       "<Figure size 432x288 with 1 Axes>"
      ]
     },
     "metadata": {
      "needs_background": "light"
     },
     "output_type": "display_data"
    }
   ],
   "source": [
    "# Check for the count of houses based on the number of bedrooms and plot the houses by bedroom count.\n",
    "# Count the number of values in a specified column of the DataFrame.\n",
    "print(sales['bedrooms'].value_counts())\n",
    "\n",
    "# Specify the legend and title of the plot.\n",
    "plt.title('Count of houses based on number of bedrooms')\n",
    "\n",
    "sns.countplot(x='bedrooms', data=sales)"
   ]
  },
  {
   "cell_type": "code",
   "execution_count": 30,
   "id": "332ffb95",
   "metadata": {},
   "outputs": [
    {
     "name": "stdout",
     "output_type": "stream",
     "text": [
      "(1627, 4)\n",
      "(3598, 4)\n",
      "(11933, 4)\n",
      "(10442, 4)\n",
      "(1950, 4)\n"
     ]
    }
   ],
   "source": [
    "# Creating subsets according to bedroom count\n",
    "h1b=sales[sales['bedrooms']==1]\n",
    "h2b=sales[sales['bedrooms']==2]\n",
    "h3b=sales[sales['bedrooms']==3]\n",
    "h4b=sales[sales['bedrooms']==4]\n",
    "h5b=sales[sales['bedrooms']==5]\n",
    "\n",
    "print(h1b.shape)\n",
    "print(h2b.shape)\n",
    "print(h3b.shape)\n",
    "print(h4b.shape)\n",
    "print(h5b.shape)"
   ]
  },
  {
   "cell_type": "code",
   "execution_count": 38,
   "id": "fac40c17",
   "metadata": {},
   "outputs": [
    {
     "data": {
      "text/plain": [
       "(array([613., 982.,  27.,   2.,   1.,   0.,   1.,   0.,   0.,   1.]),\n",
       " array([  85000.,  304500.,  524000.,  743500.,  963000., 1182500.,\n",
       "        1402000., 1621500., 1841000., 2060500., 2280000.]),\n",
       " <BarContainer object of 10 artists>)"
      ]
     },
     "execution_count": 38,
     "metadata": {},
     "output_type": "execute_result"
    },
    {
     "data": {
      "text/plain": [
       "(array([1.526e+03, 1.846e+03, 1.950e+02, 2.300e+01, 6.000e+00, 0.000e+00,\n",
       "        0.000e+00, 0.000e+00, 1.000e+00, 1.000e+00]),\n",
       " array([  96000.,  391400.,  686800.,  982200., 1277600., 1573000.,\n",
       "        1868400., 2163800., 2459200., 2754600., 3050000.]),\n",
       " <BarContainer object of 10 artists>)"
      ]
     },
     "execution_count": 38,
     "metadata": {},
     "output_type": "execute_result"
    },
    {
     "data": {
      "text/plain": [
       "(array([1.0209e+04, 1.6280e+03, 8.4000e+01, 8.0000e+00, 1.0000e+00,\n",
       "        0.0000e+00, 2.0000e+00, 0.0000e+00, 0.0000e+00, 1.0000e+00]),\n",
       " array([  69000.,  710100., 1351200., 1992300., 2633400., 3274500.,\n",
       "        3915600., 4556700., 5197800., 5838900., 6480000.]),\n",
       " <BarContainer object of 10 artists>)"
      ]
     },
     "execution_count": 38,
     "metadata": {},
     "output_type": "execute_result"
    },
    {
     "data": {
      "text/plain": [
       "(array([8.528e+03, 1.767e+03, 1.260e+02, 1.600e+01, 1.000e+00, 2.000e+00,\n",
       "        1.000e+00, 0.000e+00, 0.000e+00, 1.000e+00]),\n",
       " array([  56500.,  850850., 1645200., 2439550., 3233900., 4028250.,\n",
       "        4822600., 5616950., 6411300., 7205650., 8000000.]),\n",
       " <BarContainer object of 10 artists>)"
      ]
     },
     "execution_count": 38,
     "metadata": {},
     "output_type": "execute_result"
    },
    {
     "data": {
      "text/plain": [
       "(array([1.289e+03, 5.590e+02, 7.400e+01, 1.700e+01, 7.000e+00, 1.000e+00,\n",
       "        1.000e+00, 1.000e+00, 0.000e+00, 1.000e+00]),\n",
       " array([ 210000.,  919000., 1628000., 2337000., 3046000., 3755000.,\n",
       "        4464000., 5173000., 5882000., 6591000., 7300000.]),\n",
       " <BarContainer object of 10 artists>)"
      ]
     },
     "execution_count": 38,
     "metadata": {},
     "output_type": "execute_result"
    },
    {
     "data": {
      "image/png": "[encoded data removed]",
      "text/plain": [
       "<Figure size 1440x1440 with 5 Axes>"
      ]
     },
     "metadata": {
      "needs_background": "light"
     },
     "output_type": "display_data"
    }
   ],
   "source": [
    "# Set the plot size.\n",
    "fig, axes = plt.subplots(nrows=3, ncols=2,figsize=(20,20))\n",
    "\n",
    "# 1 bedroom:\n",
    "axes[0][0].hist(h1b['price'])\n",
    "axes[0][0].title.set_text('1 bedroom price histogram')\n",
    "\n",
    "# 2 bedroom:\n",
    "axes[0][1].hist(h2b['price'])\n",
    "axes[0][1].title.set_text('2 bedroom price histogram')\n",
    "\n",
    "# 3 bedroom:\n",
    "axes[1][0].hist(h3b['price'])\n",
    "axes[1][0].title.set_text('3 bedroom price histogram')\n",
    "\n",
    "# 4 bedroom\n",
    "axes[1][1].hist(h4b['price'])\n",
    "axes[1][1].title.set_text('4 bedroom price histogram')\n",
    "\n",
    "# 5 bedroom:\n",
    "axes[2][0].hist(h5b['price'])\n",
    "axes[2][0].title.set_text('5 bedroom price histogram')\n",
    "\n",
    "\n",
    "fig.delaxes(axes[2][1])\n",
    "\n",
    "plt.show()"
   ]
  },
  {
   "cell_type": "code",
   "execution_count": 43,
   "id": "3f8554d8",
   "metadata": {},
   "outputs": [
    {
     "data": {
      "text/plain": [
       "<AxesSubplot:xlabel='price'>"
      ]
     },
     "execution_count": 43,
     "metadata": {},
     "output_type": "execute_result"
    },
    {
     "data": {
      "image/png": "[encoded data removed]",
      "text/plain": [
       "<Figure size 1296x288 with 1 Axes>"
      ]
     },
     "metadata": {
      "needs_background": "light"
     },
     "output_type": "display_data"
    }
   ],
   "source": [
    "# Create a boxplot for the one-bedroom house sub-data set\n",
    "# Set figure size.\n",
    "fig = plt.figure(figsize=(18, 4))\n",
    "sns.boxplot(x='price', data=h1b,whis=1.5)"
   ]
  },
  {
   "cell_type": "code",
   "execution_count": 46,
   "id": "8291aa3f",
   "metadata": {},
   "outputs": [
    {
     "data": {
      "text/plain": [
       "price    100250.0\n",
       "dtype: float64"
      ]
     },
     "execution_count": 46,
     "metadata": {},
     "output_type": "execute_result"
    },
    {
     "data": {
      "text/plain": [
       "(1592, 4)"
      ]
     },
     "execution_count": 46,
     "metadata": {},
     "output_type": "execute_result"
    }
   ],
   "source": [
    "# The columns you want to search for outliers in.\n",
    "cols = ['price'] \n",
    "\n",
    "# Removing outliers in 1bedroom apartments\n",
    "# Calculate quantiles and IQR.\n",
    "# Same as np.percentile but maps (0,1) and not (0,100).\n",
    "Q1 = h1b[cols].quantile(0.25) \n",
    "Q3 = h1b[cols].quantile(0.75)\n",
    "IQR = Q3 - Q1\n",
    "IQR\n",
    "\n",
    "# Return a Boolean array of the rows with (any) non-outlier column values.\n",
    "condition = ~((h1b[cols] < (Q1 - 1.5 * IQR)) | (h1b[cols] > (Q3 + 1.5 * IQR))).any(axis=1)\n",
    "\n",
    "# Filter our DataFrame based on condition.\n",
    "h1b_non_outlier = h1b[condition]\n",
    "h1b_non_outlier.shape"
   ]
  },
  {
   "cell_type": "code",
   "execution_count": 67,
   "id": "24d3834a",
   "metadata": {},
   "outputs": [
    {
     "data": {
      "text/plain": [
       "price    140000.0\n",
       "dtype: float64"
      ]
     },
     "execution_count": 67,
     "metadata": {},
     "output_type": "execute_result"
    },
    {
     "data": {
      "text/plain": [
       "(3387, 4)"
      ]
     },
     "execution_count": 67,
     "metadata": {},
     "output_type": "execute_result"
    }
   ],
   "source": [
    "# The columns you want to search for outliers in.\n",
    "cols = ['price']\n",
    "\n",
    "# Removing outliers in 2bedroom apartments\n",
    "# Calculate quantiles and IQR.\n",
    "# Same as np.percentile but maps (0,1) and not (0,100).\n",
    "Q1 = h2b[cols].quantile(0.25) \n",
    "Q3 = h2b[cols].quantile(0.75)\n",
    "IQR = Q3 - Q1\n",
    "IQR\n",
    "\n",
    "# Return a Boolean array of the rows with (any) non-outlier column values.\n",
    "condition = ~((h2b[cols] < (Q1 - 1.5 * IQR)) | (h2b[cols] > (Q3 + 1.5 * IQR))).any(axis=1)\n",
    "\n",
    "# Filter our DataFrame based on condition.\n",
    "h2b_non_outlier = h2b[condition]\n",
    "h2b_non_outlier.shape"
   ]
  },
  {
   "cell_type": "code",
   "execution_count": 68,
   "id": "2df13328",
   "metadata": {},
   "outputs": [
    {
     "data": {
      "text/plain": [
       "price    177500.0\n",
       "dtype: float64"
      ]
     },
     "execution_count": 68,
     "metadata": {},
     "output_type": "execute_result"
    },
    {
     "data": {
      "text/plain": [
       "(11254, 4)"
      ]
     },
     "execution_count": 68,
     "metadata": {},
     "output_type": "execute_result"
    }
   ],
   "source": [
    "# The columns you want to search for outliers in.\n",
    "cols = ['price']\n",
    "\n",
    "# Removing outliers in 3bedroom apartments\n",
    "# Calculate quantiles and IQR.\n",
    "# Same as np.percentile but maps (0,1) and not (0,100).\n",
    "Q1 = h3b[cols].quantile(0.25) \n",
    "Q3 = h3b[cols].quantile(0.75)\n",
    "IQR = Q3 - Q1\n",
    "IQR\n",
    "\n",
    "# Return a Boolean array of the rows with (any) non-outlier column values.\n",
    "condition = ~((h3b[cols] < (Q1 - 1.5 * IQR)) | (h3b[cols] > (Q3 + 1.5 * IQR))).any(axis=1)\n",
    "\n",
    "# Filter our DataFrame based on condition.\n",
    "h3b_non_outlier = h3b[condition]\n",
    "h3b_non_outlier.shape"
   ]
  },
  {
   "cell_type": "code",
   "execution_count": 69,
   "id": "2aa5ecb0",
   "metadata": {},
   "outputs": [
    {
     "data": {
      "text/plain": [
       "price    230500.0\n",
       "dtype: float64"
      ]
     },
     "execution_count": 69,
     "metadata": {},
     "output_type": "execute_result"
    },
    {
     "data": {
      "text/plain": [
       "(9772, 4)"
      ]
     },
     "execution_count": 69,
     "metadata": {},
     "output_type": "execute_result"
    }
   ],
   "source": [
    "# The columns you want to search for outliers in.\n",
    "cols = ['price']\n",
    "\n",
    "# Removing outliers in 4bedroom apartments\n",
    "# Calculate quantiles and IQR.\n",
    "# Same as np.percentile but maps (0,1) and not (0,100).\n",
    "Q1 = h4b[cols].quantile(0.25) \n",
    "Q3 = h4b[cols].quantile(0.75)\n",
    "IQR = Q3 - Q1\n",
    "IQR\n",
    "\n",
    "# Return a Boolean array of the rows with (any) non-outlier column values.\n",
    "condition = ~((h4b[cols] < (Q1 - 1.5 * IQR)) | (h4b[cols] > (Q3 + 1.5 * IQR))).any(axis=1)\n",
    "\n",
    "# Filter our DataFrame based on condition.\n",
    "h4b_non_outlier = h4b[condition]\n",
    "h4b_non_outlier.shape"
   ]
  },
  {
   "cell_type": "code",
   "execution_count": 70,
   "id": "3f24f8b0",
   "metadata": {},
   "outputs": [
    {
     "data": {
      "text/plain": [
       "price    325000.0\n",
       "dtype: float64"
      ]
     },
     "execution_count": 70,
     "metadata": {},
     "output_type": "execute_result"
    },
    {
     "data": {
      "text/plain": [
       "(1809, 4)"
      ]
     },
     "execution_count": 70,
     "metadata": {},
     "output_type": "execute_result"
    }
   ],
   "source": [
    "# The columns you want to search for outliers in.\n",
    "cols = ['price']\n",
    "\n",
    "# Removing outliers in 5bedroom apartments\n",
    "# Calculate quantiles and IQR.\n",
    "# Same as np.percentile but maps (0,1) and not (0,100).\n",
    "Q1 = h5b[cols].quantile(0.25) \n",
    "Q3 = h5b[cols].quantile(0.75)\n",
    "IQR = Q3 - Q1\n",
    "IQR\n",
    "\n",
    "# Return a Boolean array of the rows with (any) non-outlier column values.\n",
    "condition = ~((h5b[cols] < (Q1 - 1.5 * IQR)) | (h5b[cols] > (Q3 + 1.5 * IQR))).any(axis=1)\n",
    "\n",
    "# Filter our DataFrame based on condition.\n",
    "h5b_non_outlier = h5b[condition]\n",
    "h5b_non_outlier.shape"
   ]
  },
  {
   "cell_type": "code",
   "execution_count": 55,
   "id": "ffec1e9a",
   "metadata": {},
   "outputs": [
    {
     "data": {
      "text/plain": [
       "<AxesSubplot:xlabel='price'>"
      ]
     },
     "execution_count": 55,
     "metadata": {},
     "output_type": "execute_result"
    },
    {
     "data": {
      "text/plain": [
       "Text(0.5, 1.0, 'Box Plot Representation for 1Bedroom Houses')"
      ]
     },
     "execution_count": 55,
     "metadata": {},
     "output_type": "execute_result"
    },
    {
     "data": {
      "image/png": "[encoded data removed]",
      "text/plain": [
       "<Figure size 864x144 with 1 Axes>"
      ]
     },
     "metadata": {
      "needs_background": "light"
     },
     "output_type": "display_data"
    }
   ],
   "source": [
    "# Boxplot view after outlier removal\n",
    "fig = plt.subplots(figsize=(12, 2))\n",
    "sns.boxplot(x='price', data=h1b_non_outlier)\n",
    "plt.title('Box Plot Representation for 1Bedroom Houses')"
   ]
  },
  {
   "cell_type": "code",
   "execution_count": 66,
   "id": "3ce41465",
   "metadata": {},
   "outputs": [
    {
     "data": {
      "text/plain": [
       "<AxesSubplot:xlabel='price'>"
      ]
     },
     "execution_count": 66,
     "metadata": {},
     "output_type": "execute_result"
    },
    {
     "data": {
      "text/plain": [
       "Text(0.5, 1.0, 'Box Plot Representation for 2Bedroom Houses')"
      ]
     },
     "execution_count": 66,
     "metadata": {},
     "output_type": "execute_result"
    },
    {
     "data": {
      "image/png": "[encoded data removed]",
      "text/plain": [
       "<Figure size 864x144 with 1 Axes>"
      ]
     },
     "metadata": {
      "needs_background": "light"
     },
     "output_type": "display_data"
    }
   ],
   "source": [
    "# Boxplot view after outlier removal\n",
    "fig = plt.subplots(figsize=(12, 2))\n",
    "sns.boxplot(x='price', data=h2b_non_outlier)\n",
    "plt.title('Box Plot Representation for 2Bedroom Houses')"
   ]
  },
  {
   "cell_type": "code",
   "execution_count": 57,
   "id": "c299d6bb",
   "metadata": {},
   "outputs": [
    {
     "data": {
      "text/plain": [
       "<AxesSubplot:xlabel='price'>"
      ]
     },
     "execution_count": 57,
     "metadata": {},
     "output_type": "execute_result"
    },
    {
     "data": {
      "text/plain": [
       "Text(0.5, 1.0, 'Box Plot Representation for 3Bedroom Houses')"
      ]
     },
     "execution_count": 57,
     "metadata": {},
     "output_type": "execute_result"
    },
    {
     "data": {
      "image/png": "[encoded data removed]",
      "text/plain": [
       "<Figure size 864x144 with 1 Axes>"
      ]
     },
     "metadata": {
      "needs_background": "light"
     },
     "output_type": "display_data"
    }
   ],
   "source": [
    "# Boxplot view after outlier removal\n",
    "fig = plt.subplots(figsize=(12, 2))\n",
    "sns.boxplot(x='price', data=h3b_non_outlier)\n",
    "plt.title('Box Plot Representation for 3Bedroom Houses')"
   ]
  },
  {
   "cell_type": "code",
   "execution_count": 58,
   "id": "fc8d2bc0",
   "metadata": {},
   "outputs": [
    {
     "data": {
      "text/plain": [
       "<AxesSubplot:xlabel='price'>"
      ]
     },
     "execution_count": 58,
     "metadata": {},
     "output_type": "execute_result"
    },
    {
     "data": {
      "text/plain": [
       "Text(0.5, 1.0, 'Box Plot Representation for 4Bedroom Houses')"
      ]
     },
     "execution_count": 58,
     "metadata": {},
     "output_type": "execute_result"
    },
    {
     "data": {
      "image/png": "[encoded data removed]",
      "text/plain": [
       "<Figure size 864x144 with 1 Axes>"
      ]
     },
     "metadata": {
      "needs_background": "light"
     },
     "output_type": "display_data"
    }
   ],
   "source": [
    "# Boxplot view after outlier removal\n",
    "fig = plt.subplots(figsize=(12, 2))\n",
    "sns.boxplot(x='price', data=h4b_non_outlier)\n",
    "plt.title('Box Plot Representation for 4Bedroom Houses')"
   ]
  },
  {
   "cell_type": "code",
   "execution_count": 59,
   "id": "5228e349",
   "metadata": {},
   "outputs": [
    {
     "data": {
      "text/plain": [
       "<AxesSubplot:xlabel='price'>"
      ]
     },
     "execution_count": 59,
     "metadata": {},
     "output_type": "execute_result"
    },
    {
     "data": {
      "text/plain": [
       "Text(0.5, 1.0, 'Box Plot Representation for 5Bedroom Houses')"
      ]
     },
     "execution_count": 59,
     "metadata": {},
     "output_type": "execute_result"
    },
    {
     "data": {
      "image/png": "[encoded data removed]",
      "text/plain": [
       "<Figure size 864x144 with 1 Axes>"
      ]
     },
     "metadata": {
      "needs_background": "light"
     },
     "output_type": "display_data"
    }
   ],
   "source": [
    "# Boxplot view after outlier removal\n",
    "fig = plt.subplots(figsize=(12, 2))\n",
    "sns.boxplot(x='price', data=h5b_non_outlier)\n",
    "plt.title('Box Plot Representation for 5Bedroom Houses')"
   ]
  },
  {
   "cell_type": "code",
   "execution_count": null,
   "id": "f7e8f208",
   "metadata": {},
   "outputs": [],
   "source": []
  },
  {
   "cell_type": "code",
   "execution_count": null,
   "id": "19c8061e",
   "metadata": {},
   "outputs": [],
   "source": []
  },
  {
   "cell_type": "code",
   "execution_count": null,
   "id": "666bed7c",
   "metadata": {},
   "outputs": [],
   "source": []
  },
  {
   "cell_type": "code",
   "execution_count": null,
   "id": "804a7989",
   "metadata": {},
   "outputs": [],
   "source": []
  }
 ],
 "metadata": {
  "kernelspec": {
   "display_name": "Python 3 (ipykernel)",
   "language": "python",
   "name": "python3"
  },
  "language_info": {
   "codemirror_mode": {
    "name": "ipython",
    "version": 3
   },
   "file_extension": ".py",
   "mimetype": "text/x-python",
   "name": "python",
   "nbconvert_exporter": "python",
   "pygments_lexer": "ipython3",
   "version": "3.9.7"
  }
 },
 "nbformat": 4,
 "nbformat_minor": 5
}
